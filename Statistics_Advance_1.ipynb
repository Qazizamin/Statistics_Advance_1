{
 "cells": [
  {
   "cell_type": "markdown",
   "metadata": {},
   "source": [
    "### Q1. Define the z-statistic and explain its relationship to the standard normal distribution. How is the z-statistic used in hypothesis testing? "
   ]
  },
  {
   "cell_type": "markdown",
   "metadata": {},
   "source": [
    "- The z-statistic is a standardized value that indicates how many standard deviations an element is from the mean of a distribution. It is a key concept in statistics, particularly in hypothesis testing and the analysis of normally distributed data.\n",
    "### Relationship to the Standard Normal Distribution:\n",
    "- The standard normal distribution is a specific normal distribution that has a mean of 0 and a standard deviation of 1. When you calculate a z-statistic, you are essentially converting your original data to this standard normal form. The resulting z-scores can then be compared across different datasets or distributions, as they follow the same standard normal distribution.\n",
    "\n",
    "### Use of the z-statistic in Hypothesis Testing:\n",
    "- In hypothesis testing, the z-statistic is used to determine whether to reject the null hypothesis:\n",
    "\n",
    "- 1. Formulate Hypotheses:\n",
    "- Null Hypothesis (H0): A statement asserting that there is no effect or difference (e.g., the mean is equal to a specified value).\n",
    "- Alternative Hypothesis (Ha): A statement that indicates the presence of an effect or difference.\n",
    "\n",
    "- 2. Collect Data: Gather sample data relevant to your hypotheses.\n",
    "- 3. Calculate the z-statistic: Use the formula provided to compute the z-statistic for the sample mean or proportion.\n",
    "\n",
    "- 4. Determine the Significance Level (α): This is the probability of rejecting the null hypothesis when it is true, commonly set at 0.05 or 0.01.\n",
    "\n",
    "- 5. Find the Critical Value: Using z-tables or statistical software, identify the critical z-value(s) that correspond to your significance level.\n",
    "\n",
    "- 6. Make a Decision:\n",
    "- If the calculated z-statistic falls beyond the critical value(s) (in the tail regions of the standard normal distribution), you reject the null hypothesis. If it falls within the range of the critical values, you fail to reject the null hypothesis."
   ]
  },
  {
   "cell_type": "markdown",
   "metadata": {},
   "source": [
    "### Q2. What is a p-value, and how is it used in hypothesis testing? What does it mean if the p-value is very small (e.g., 0.01)? "
   ]
  },
  {
   "cell_type": "markdown",
   "metadata": {},
   "source": [
    "- A p-value is a statistical measure that helps you determine the significance of your results in hypothesis testing. Specifically, it quantifies the probability of observing data at least as extreme as what you have obtained, assuming that the null hypothesis is true.\n",
    "- Definition of p-value\n",
    "The p-value represents the probability of obtaining results equal to or more extreme than the observed results, under the assumption that the null hypothesis (Ho) is correct.\n",
    "\n",
    "### Use of p-value in Hypothesis Testing\n",
    "- 1. Formulate Hypotheses:\n",
    "- Null Hypothesis (Ho): The statement being tested, typically stating that there is no effect or no difference.\n",
    "- Alternative Hypothesis (Ha): The statement indicating the presence of an effect or a difference.\n",
    "\n",
    "- 2. Collect Data: Gather your sample data and perform the necessary statistical analysis.\n",
    "\n",
    "- 3. Calculate the Test Statistic: Depending on the test being used (e.g., t-test, z-test), calculate the appropriate test statistic.\n",
    "\n",
    "- 4. Determine the p-value: Based on the test statistic and the chosen statistical distribution, calculate the p-value. This value indicates the probability of obtaining your observed results (or more extreme results) if the null hypothesis is true.\n",
    "\n",
    "- 5. Compare p-value to the Significance Level (α): Common significance levels are 0.05 or 0.01.\n",
    "- If the p-value is less than or equal to α, you reject the null hypothesis.\n",
    "- If the p-value is greater than α, you fail to reject the null hypothesis.\n",
    "\n",
    "\n",
    "### Interpretation of p-value:\n",
    "- Small p-value (e.g., 0.01): A p-value of 0.01 indicates that there is only a 1% probability of observing the data (or something more extreme) if the null hypothesis is true. This is typically interpreted as strong evidence against the null hypothesis. If you set your significance level at 0.05, a p-value of 0.01 would lead you to reject the null hypothesis, suggesting that the effect or difference you are testing for is statistically significant.\n",
    "- Large p-value: A larger p-value (e.g., 0.2) suggests weak evidence against the null hypothesis. You would fail to reject the null hypothesis, indicating that the data do not provide sufficient evidence to support the alternative hypothesis."
   ]
  },
  {
   "cell_type": "markdown",
   "metadata": {},
   "source": [
    "### Q3. Compare and contrast the binomial and Bernoulli distributions. "
   ]
  },
  {
   "cell_type": "markdown",
   "metadata": {},
   "source": [
    "- The Bernoulli distribution and the binomial distribution are closely related concepts in probability theory, both dealing with outcomes of random experiments, but they differ in key aspects.\n",
    "\n",
    "### Comparison and Contrast:\n",
    "- 1. Definition:\n",
    "- Bernoulli Distribution: A Bernoulli distribution describes a single trial or experiment that has two possible outcomes: success (1) or failure (0). The probability of success is denoted by p, and the probability of failure is 1−p.\n",
    "\n",
    "- Binomial Distribution: A binomial distribution describes the number of successes in a fixed number of independent Bernoulli trials. It is characterized by two parameters: n (the number of trials) and p (the probability of success in each trial).\n",
    "\n",
    "- 2. Parameters:\n",
    "- Bernoulli Distribution: Has one parameter: \n",
    "- p (the probability of success).\n",
    "- Denoted as X ∼ Bernoulli(p).\n",
    "\n",
    "- Binomial Distribution:\n",
    "Has two parameters: n (the number of trials) and p (the probability of success).\n",
    "Denoted as Y ∼ Binomial(n,p).\n",
    "\n",
    "- 3. Applications:\n",
    "- Bernoulli Distribution: Used for modeling single trials, such as a coin toss (heads or tails), a pass/fail test, or a yes/no question.\n",
    "- Binomial Distribution: Used for modeling the total number of successes in multiple trials, such as the number of heads in a series of coin tosses, the number of successful sales calls out of a set number, or the number of defective items in a batch.\n",
    "\n",
    "- In summary, the Bernoulli distribution is a special case of the binomial distribution where there is only one trial. The binomial distribution extends this concept to multiple trials, capturing the total number of successes across those trials."
   ]
  },
  {
   "cell_type": "markdown",
   "metadata": {},
   "source": [
    "### Q4. Under what conditions is the binomial distribution used, and how does it relate to the Bernoulli distribution? "
   ]
  },
  {
   "cell_type": "markdown",
   "metadata": {},
   "source": [
    "- The binomial distribution is used under specific conditions that relate to repeated independent trials of a Bernoulli experiment. Here are the key conditions for using the binomial distribution, along with its relationship to the Bernoulli distribution:\n",
    "### Conditions for Using the Binomial Distribution:\n",
    "- 1. Fixed Number of Trials: The experiment must have a predetermined, fixed number of trials, denoted as n.\n",
    "\n",
    "- 2. Binary Outcomes: Each trial must have only two possible outcomes, commonly referred to as \"success\" and \"failure\". For example, this could be flipping a coin (heads or tails), passing or failing a test, etc.\n",
    "\n",
    "- 3. Independence: The trials must be independent of one another, meaning the outcome of one trial does not affect the outcomes of others.\n",
    "\n",
    "- 4. Constant Probability: The probability of success, denoted as p, must remain constant for each trial. Consequently, the probability of failure is 1−p.\n",
    "\n",
    "### Relationship to the Bernoulli Distribution:\n",
    "The Bernoulli distribution describes the outcome of a single trial with two possible outcomes (success or failure). It is the foundational building block for the binomial distribution.\n",
    "The binomial distribution can be viewed as the sum of several independent Bernoulli random variables:\n",
    "If you have n independent Bernoulli trials, each with the same probability of success p, the total number of successes in those trials follows a binomial distribution."
   ]
  },
  {
   "cell_type": "markdown",
   "metadata": {},
   "source": [
    "### Q5. What are the key properties of the Poison distribution, and when is it appropriate to use this distribution?"
   ]
  },
  {
   "cell_type": "markdown",
   "metadata": {},
   "source": [
    "- The Poisson distribution is a discrete probability distribution that expresses the probability of a given number of events occurring in a fixed interval of time or space, under certain conditions.\n",
    "\n",
    "### Key Properties of the Poisson Distribution:\n",
    "- 1. Discrete Distribution: The Poisson distribution is discrete, meaning it deals with countable events (e.g., the number of occurrences of an event).\n",
    "\n",
    "- 2. Parameter: It is characterized by a single parameter λ (lambda), which represents both the mean and variance of the distribution. Specifically, λ is the average rate of occurrence of the event in the given interval.\n",
    "\n",
    "- 3. Probability Mass Function (PMF): The probability of observing k events in a fixed interval is given by:\n",
    "- P(X = k) = e^-λ . λ^k / k!\n",
    "- Where:\n",
    "- e is Euler's number (approximately 2.71828),\n",
    "- k is the number of occurrences (non-negative integer),\n",
    "- k! is the factorial of k.\n",
    "\n",
    "- 4. Mean and Variance:\n",
    "For a Poisson random variable X∼Poisson(λ):\n",
    "- Mean: E[X]=λ\n",
    "- Variance:  Var(X)=λ\n",
    "\n",
    "### When to Use the Poisson Distribution:\n",
    "- The Poisson distribution is appropriate to use under the following conditions:\n",
    "\n",
    "- 1. Rare Events:It is often used to model rare events occurring in a fixed interval of time or space (e.g., the number of accidents at a traffic intersection in a month).\n",
    "- 2. Fixed Interval: The event of interest occurs in a fixed interval of time or space (e.g., the number of phone calls received at a call center in one hour).\n",
    "- 3. Independence: The occurrences of events are independent of one another. The occurrence of one event does not influence the occurrence of another.\n",
    "- 4. Constant Rate: The average rate of occurrence (λ) is constant over the interval considered.\n",
    "\n",
    "\n",
    "### Examples of Appropriate Usage:\n",
    "- 1. Call Centers: The number of calls received at a call center per hour.\n",
    "- 2. Website Traffic: The number of visitors to a website in a day.\n",
    "- 3. Queuing Theory: The number of customers arriving at a service point in a given period.\n",
    "- 4. Biological Events: The number of mutations in a given stretch of DNA over a certain time frame."
   ]
  },
  {
   "cell_type": "markdown",
   "metadata": {},
   "source": [
    "### Q6. Define the terms \"probability distribution\" and \"probability density function\" (PDF). How does a PDF differ from a probability mass function (PMF)?"
   ]
  },
  {
   "cell_type": "markdown",
   "metadata": {},
   "source": [
    "### Probability Distribution\n",
    "- A probability distribution is a mathematical function that provides the probabilities of occurrence of different possible outcomes in an experiment or a random variable. It describes how the total probability is distributed over the possible values that the random variable can take.\n",
    "\n",
    "- For discrete random variables, the probability distribution specifies the probability associated with each specific outcome.\n",
    "- For continuous random variables, it provides the likelihood of the variable falling within a particular range of values.\n",
    "\n",
    "### Probability Density Function (PDF)\n",
    "- A probability density function (PDF) is a function used to describe the probability distribution of a continuous random variable. The PDF represents the density of probabilities rather than the probabilities themselves. Key characteristics include:\n",
    "\n",
    "- The value of the PDF can be greater than 1, but the area under the curve (integral of the PDF over the entire space) must equal 1.\n",
    "- The probability that a continuous random variable falls within a specific interval can be calculated by integrating the PDF over that interval.\n",
    "\n",
    "### Probability Mass Function (PMF)\n",
    "- A probability mass function (PMF) is a function that gives the probability that a discrete random variable is exactly equal to some value.\n",
    "- The PMF is defined for discrete random variables and satisfies:\n",
    "\n",
    "- The PMF P(X=x) provides the probability of the random variable X taking the specific value x.\n",
    "- The sum of the probabilities for all possible outcomes must equal 1:\n",
    "\n",
    "\n",
    "# Summary of Differences:\n",
    "### Probability Density Function (PDF):\n",
    "- 1. Type of Random Variable : Continuous\n",
    "- 2. Output : Density value (not a direct probability)\n",
    "- 3. Probability Calculation : Integral over an interval\n",
    "- 4. Total Probability : Area under the curve equals 1\n",
    "\n",
    "### Probability Mass Function (PMF):\n",
    "- 1. Type of Random Variable : Discrete\n",
    "- 2. Output : Actual probabilities for specific outcomes\n",
    "- 3. Probability Calculation : Direct value for specific points\n",
    "- 4. Total Probability : um of probabilities equals 1"
   ]
  },
  {
   "cell_type": "markdown",
   "metadata": {},
   "source": [
    "### Q7. Explain the Central Limit Theorem (CLT) with example."
   ]
  },
  {
   "cell_type": "markdown",
   "metadata": {},
   "source": [
    "- The Central Limit Theorem (CLT) is a fundamental statistical concept that describes how the distribution of sample means approaches a normal distribution as the sample size increases, regardless of the shape of the population distribution, provided the samples are independent and identically distributed (i.i.d.).\n",
    "### Key Points of the Central Limit Theorem:\n",
    "- 1. Sample Means: The CLT states that if you take sufficiently large random samples from any population with a finite mean (μ) and finite variance (σ2), the distribution of the sample means will be approximately normally distributed.\n",
    "- 2. Sample Size: The sample size needs to be large enough for the approximation to hold. A common rule of thumb is that a sample size of n≥30 is typically sufficient, though this can vary depending on the population distribution.\n",
    "- 3. Mean and Variance of Sample Means: The mean of the distribution of sample means will equal the population mean (μ), and the variance of the sample means will equal the population variance divided by the sample size (σ2/n). Thus, the standard deviation of the sample means (known as the standard error) is σ/n^0.5.\n",
    "\n",
    "### Example of the Central Limit Theorem:\n",
    "- Scenario: Suppose you have a population of students in a large university, and you know that the distribution of their exam scores is not normal. Let's say the mean score is 70 with a standard deviation of 10.\n",
    "\n",
    "- 1. Sampling: You take random samples of 30 students and calculate the mean score for each sample.\n",
    "- 2. Repeated Sampling: If you repeat this process (taking multiple samples of size 30) and plot the distribution of the sample means, the CLT states that this distribution will approximate a normal distribution, even though the original population distribution of exam scores may be skewed or non-normal.\n",
    "- 3. Distribution of Sample Means: The mean of the sample means will be approximately 70.\n",
    " - The standard deviation of the sample means (standard error) will be 10/30^0.5 ≈ 1.83.\n",
    "\n",
    "- 4. Normal Approximation: As you collect more and more samples of size 30, the histogram of the sample means will look more like a normal distribution, centered around the population mean of 70.\n",
    "\n",
    "\n"
   ]
  },
  {
   "cell_type": "markdown",
   "metadata": {},
   "source": [
    "### Q8. Compare z-scores and t-scores. When should you use a z-score, and when should a t-score be applied instead? "
   ]
  },
  {
   "cell_type": "markdown",
   "metadata": {},
   "source": [
    "- Z-scores and t-scores are both standardized scores that indicate how many standard deviations a particular data point is from the mean of a distribution. However, they are used in different contexts and have distinct properties. \n",
    "\n",
    "## Comparison:\n",
    "\n",
    "### Z-Scores:\n",
    "\n",
    "- 1. Definition: A z-score measures how many standard deviations an individual data point is from the population mean. \n",
    "\n",
    "- 2. Population Parameters: Z-scores are used when the population parameters (mean and standard deviation) are known.\n",
    "\n",
    "- 3. Sample Size: Typically used when the sample size is large (usually n ≥ 30). According to the Central Limit Theorem, the sampling distribution of the mean approaches normality with larger sample sizes.\n",
    "\n",
    "- 4. Distribution: The z-score assumes that the underlying distribution is normal, or that the sample size is large enough for the Central Limit Theorem to apply.\n",
    "\n",
    "### T-Scores:\n",
    "\n",
    "- 1. Definition: A t-score measures how many standard deviations a data point is from the sample mean, using the sample standard deviation instead of the population standard deviation.\n",
    "\n",
    "- 2. Sample Parameters: T-scores are used when the population parameters are unknown, and you must estimate them from the sample.\n",
    "\n",
    "- 3. Sample Size: Commonly used with smaller sample sizes (n<30). The t-distribution accounts for the added uncertainty from estimating the population standard deviation from a small sample.\n",
    "\n",
    "- 4. Distribution: The t-distribution is wider and has heavier tails than the normal distribution, which provides a better estimate of the sampling distribution when sample sizes are small.\n",
    "\n",
    "\n",
    "## Use T-Scores When:\n",
    "- The population standard deviation is unknown and needs to be estimated from the sample.\n",
    "- The sample size is small (n<30).\n",
    "- You are dealing with a normally distributed population or the sample data do not significantly deviate from normality.\n"
   ]
  },
  {
   "cell_type": "markdown",
   "metadata": {},
   "source": [
    "### Q9. Given a sample mean of 105, a population mean of 100, a standard deviation of 15, and a sample size of 25, calculate the z-score and p-value. Based on a significance level of 0.05, do you reject or fail to reject the null hypothesis? Task: Write Python code to calculate the z-score and p-value for the given data. Objective: Apply the formula for the z-score and interpret the p-value for hypothesis testing. "
   ]
  },
  {
   "cell_type": "code",
   "execution_count": 1,
   "metadata": {},
   "outputs": [
    {
     "name": "stdout",
     "output_type": "stream",
     "text": [
      "Z-Score: 1.6667\n",
      "P-Value: 0.0956\n",
      "Fail to reject the null hypothesis.\n"
     ]
    }
   ],
   "source": [
    "import scipy.stats as stats\n",
    "\n",
    "# Given data\n",
    "sample_mean = 105\n",
    "population_mean = 100\n",
    "std_dev = 15\n",
    "sample_size = 25\n",
    "alpha = 0.05  # Significance level\n",
    "\n",
    "# Calculate z-score\n",
    "z_score = (sample_mean - population_mean) / (std_dev / (sample_size ** 0.5))\n",
    "print(f\"Z-Score: {z_score:.4f}\")\n",
    "\n",
    "# Calculate p-value for a two-tailed test\n",
    "p_value = 2 * (1 - stats.norm.cdf(abs(z_score)))\n",
    "print(f\"P-Value: {p_value:.4f}\")\n",
    "\n",
    "# Decision making\n",
    "if p_value < alpha:\n",
    "    print(\"Reject the null hypothesis.\")\n",
    "else:\n",
    "    print(\"Fail to reject the null hypothesis.\")\n"
   ]
  },
  {
   "cell_type": "markdown",
   "metadata": {},
   "source": [
    "### Q10. Simulate a binomial distribution with 10 trials and a probability of success of 0.6 using Python. Generate 1,000 samples and plot the distribution. What is the expected mean and variance? Task: Use Python to generate the data, plot the distribution, and calculate the mean and variance. Objective: Understand the properties of a binomial distribution and verify them through simulation."
   ]
  },
  {
   "cell_type": "code",
   "execution_count": 2,
   "metadata": {},
   "outputs": [
    {
     "data": {
      "image/png": "[encoded data removed]",
      "text/plain": [
       "<Figure size 1000x600 with 1 Axes>"
      ]
     },
     "metadata": {},
     "output_type": "display_data"
    },
    {
     "name": "stdout",
     "output_type": "stream",
     "text": [
      "Calculated Mean: 5.9990\n",
      "Calculated Variance: 2.7430\n",
      "Expected Mean: 6.0000\n",
      "Expected Variance: 2.4000\n"
     ]
    }
   ],
   "source": [
    "import numpy as np\n",
    "import matplotlib.pyplot as plt\n",
    "import seaborn as sns\n",
    "\n",
    "# Parameters for the binomial distribution\n",
    "n = 10  # Number of trials\n",
    "p = 0.6  # Probability of success\n",
    "num_samples = 1000  # Number of samples\n",
    "\n",
    "# Generate binomial distribution samples\n",
    "samples = np.random.binomial(n, p, num_samples)\n",
    "\n",
    "# Calculate mean and variance\n",
    "mean = np.mean(samples)\n",
    "variance = np.var(samples)\n",
    "\n",
    "# Expected mean and variance\n",
    "expected_mean = n * p\n",
    "expected_variance = n * p * (1 - p)\n",
    "\n",
    "# Plotting the distribution\n",
    "plt.figure(figsize=(10, 6))\n",
    "sns.histplot(samples, bins=range(n + 2), kde=False, stat='density', color='blue', alpha=0.6)\n",
    "plt.xticks(range(n + 1))\n",
    "plt.title('Binomial Distribution (n=10, p=0.6)')\n",
    "plt.xlabel('Number of Successes')\n",
    "plt.ylabel('Density')\n",
    "plt.grid(axis='y')\n",
    "plt.show()\n",
    "\n",
    "# Print results\n",
    "print(f\"Calculated Mean: {mean:.4f}\")\n",
    "print(f\"Calculated Variance: {variance:.4f}\")\n",
    "print(f\"Expected Mean: {expected_mean:.4f}\")\n",
    "print(f\"Expected Variance: {expected_variance:.4f}\")\n"
   ]
  },
  {
   "cell_type": "code",
   "execution_count": null,
   "metadata": {},
   "outputs": [],
   "source": []
  }
 ],
 "metadata": {
  "kernelspec": {
   "display_name": "Python 3",
   "language": "python",
   "name": "python3"
  },
  "language_info": {
   "codemirror_mode": {
    "name": "ipython",
    "version": 3
   },
   "file_extension": ".py",
   "mimetype": "text/x-python",
   "name": "python",
   "nbconvert_exporter": "python",
   "pygments_lexer": "ipython3",
   "version": "3.12.7"
  }
 },
 "nbformat": 4,
 "nbformat_minor": 2
}
